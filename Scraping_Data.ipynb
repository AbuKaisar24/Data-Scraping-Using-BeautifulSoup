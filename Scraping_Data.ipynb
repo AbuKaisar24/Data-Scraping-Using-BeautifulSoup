{
  "nbformat": 4,
  "nbformat_minor": 0,
  "metadata": {
    "colab": {
      "name": "Scraping Data.ipynb",
      "provenance": [],
      "collapsed_sections": [],
      "include_colab_link": true
    },
    "kernelspec": {
      "name": "python3",
      "display_name": "Python 3"
    },
    "accelerator": "GPU"
  },
  "cells": [
    {
      "cell_type": "markdown",
      "metadata": {
        "id": "view-in-github",
        "colab_type": "text"
      },
      "source": [
        "<a href=\"https://colab.research.google.com/github/AbuKaisar24/Data-Scraping-Using-BeautifulSoup/blob/master/Scraping_Data.ipynb\" target=\"_parent\"><img src=\"https://colab.research.google.com/assets/colab-badge.svg\" alt=\"Open In Colab\"/></a>"
      ]
    },
    {
      "cell_type": "code",
      "metadata": {
        "id": "ugpN4TA9Tikc",
        "colab_type": "code",
        "colab": {}
      },
      "source": [
        "import requests\n",
        "from bs4 import BeautifulSoup\n",
        "import numpy as np\n",
        "import pandas as pd\n",
        "import re\n",
        "import time"
      ],
      "execution_count": 0,
      "outputs": []
    },
    {
      "cell_type": "code",
      "metadata": {
        "id": "rUQBBsJDU9yY",
        "colab_type": "code",
        "colab": {}
      },
      "source": [
        "url = \"https://www.dailymail.co.uk\""
      ],
      "execution_count": 0,
      "outputs": []
    },
    {
      "cell_type": "code",
      "metadata": {
        "id": "p_fsitALVAPM",
        "colab_type": "code",
        "outputId": "5fbe0530-f302-4440-f3d3-7683d7438fd5",
        "colab": {
          "base_uri": "https://localhost:8080/",
          "height": 34
        }
      },
      "source": [
        "# Request\n",
        "r1 = requests.get(url)\n",
        "r1.status_code\n",
        "\n",
        "# We'll save in coverpage the cover page content\n",
        "coverpage = r1.content\n",
        "\n",
        "# Soup creation\n",
        "soup1 = BeautifulSoup(coverpage, 'html5lib')\n",
        "\n",
        "# News identification\n",
        "coverpage_news = soup1.find_all('h2', class_='linkro-darkred')\n",
        "len(coverpage_news)"
      ],
      "execution_count": 0,
      "outputs": [
        {
          "output_type": "execute_result",
          "data": {
            "text/plain": [
              "89"
            ]
          },
          "metadata": {
            "tags": []
          },
          "execution_count": 3
        }
      ]
    },
    {
      "cell_type": "code",
      "metadata": {
        "id": "GjuyzyilVC18",
        "colab_type": "code",
        "outputId": "66028815-c2bd-4eb3-8b79-a11f6b3308aa",
        "colab": {
          "base_uri": "https://localhost:8080/",
          "height": 87
        }
      },
      "source": [
        "coverpage_news[5]"
      ],
      "execution_count": 0,
      "outputs": [
        {
          "output_type": "execute_result",
          "data": {
            "text/plain": [
              "<h2 class=\"linkro-darkred\">\n",
              "    <a href=\"/news/article-7569277/Gwyneth-Paltrow-fire-leanest-liveable-weight-goal-appeared-lifestyle-website.html\" itemprop=\"url\">Gwyneth Paltrow comes under fire for 'leanest liveable weight' goal that appeared on her lifestyle website Goop as scientists condemn the 'dangerous suggestion' </a>\n",
              "  </h2>"
            ]
          },
          "metadata": {
            "tags": []
          },
          "execution_count": 4
        }
      ]
    },
    {
      "cell_type": "code",
      "metadata": {
        "id": "ANQWG8mTVJSE",
        "colab_type": "code",
        "colab": {}
      },
      "source": [
        "number_of_articles = 10"
      ],
      "execution_count": 0,
      "outputs": []
    },
    {
      "cell_type": "code",
      "metadata": {
        "id": "hJx1xvB8VM38",
        "colab_type": "code",
        "colab": {}
      },
      "source": [
        "# Empty lists for content, links and titles\n",
        "news_contents = []\n",
        "list_links = []\n",
        "list_titles = []\n",
        "\n",
        "for n in np.arange(0, number_of_articles):\n",
        "        \n",
        "    # Getting the link of the article\n",
        "    link = url + coverpage_news[n].find('a')['href']\n",
        "    list_links.append(link)\n",
        "    \n",
        "    # Getting the title\n",
        "    title = coverpage_news[n].find('a').get_text()\n",
        "    list_titles.append(title)\n",
        "    \n",
        "    # Reading the content (it is divided in paragraphs)\n",
        "    article = requests.get(link)\n",
        "    article_content = article.content\n",
        "    soup_article = BeautifulSoup(article_content, 'html5lib')\n",
        "    body = soup_article.find_all('p', class_='mol-para-with-font')\n",
        "    \n",
        "    # Unifying the paragraphs\n",
        "    list_paragraphs = []\n",
        "    for p in np.arange(0, len(body)):\n",
        "        paragraph = body[p].get_text()\n",
        "        list_paragraphs.append(paragraph)\n",
        "        final_article = \" \".join(list_paragraphs)\n",
        "        \n",
        "    # Removing special characters\n",
        "    final_article = re.sub(\"\\\\xa0\", \"\", final_article)\n",
        "        \n",
        "    news_contents.append(final_article)"
      ],
      "execution_count": 0,
      "outputs": []
    },
    {
      "cell_type": "code",
      "metadata": {
        "id": "hbyQxxymVRAM",
        "colab_type": "code",
        "colab": {}
      },
      "source": [
        "df = pd.DataFrame(\n",
        "     {'Article Title': list_titles,'Article Content': news_contents,\n",
        "    })"
      ],
      "execution_count": 0,
      "outputs": []
    },
    {
      "cell_type": "code",
      "metadata": {
        "id": "f66qlFbpVhyV",
        "colab_type": "code",
        "outputId": "3dacb4e1-eb92-45c8-af08-08f5a8b1ddf9",
        "colab": {
          "base_uri": "https://localhost:8080/",
          "height": 352
        }
      },
      "source": [
        "df"
      ],
      "execution_count": 0,
      "outputs": [
        {
          "output_type": "execute_result",
          "data": {
            "text/html": [
              "<div>\n",
              "<style scoped>\n",
              "    .dataframe tbody tr th:only-of-type {\n",
              "        vertical-align: middle;\n",
              "    }\n",
              "\n",
              "    .dataframe tbody tr th {\n",
              "        vertical-align: top;\n",
              "    }\n",
              "\n",
              "    .dataframe thead th {\n",
              "        text-align: right;\n",
              "    }\n",
              "</style>\n",
              "<table border=\"1\" class=\"dataframe\">\n",
              "  <thead>\n",
              "    <tr style=\"text-align: right;\">\n",
              "      <th></th>\n",
              "      <th>Article Title</th>\n",
              "      <th>Article Content</th>\n",
              "    </tr>\n",
              "  </thead>\n",
              "  <tbody>\n",
              "    <tr>\n",
              "      <th>0</th>\n",
              "      <td>Parents of British teenager who was killed by ...</td>\n",
              "      <td>The family of Harry Dunn flew to the US yester...</td>\n",
              "    </tr>\n",
              "    <tr>\n",
              "      <th>1</th>\n",
              "      <td>'There is blood on Trump's hands': Retired fou...</td>\n",
              "      <td>A retired four-star Marine general has slammed...</td>\n",
              "    </tr>\n",
              "    <tr>\n",
              "      <th>2</th>\n",
              "      <td>Ten-year-old girl dies after 'being ejected' f...</td>\n",
              "      <td>A ten-year-old girl died after plunging from a...</td>\n",
              "    </tr>\n",
              "    <tr>\n",
              "      <th>3</th>\n",
              "      <td>Elton John brands Michael Jackson 'mentally il...</td>\n",
              "      <td>Sir Elton John has branded late pop superstar ...</td>\n",
              "    </tr>\n",
              "    <tr>\n",
              "      <th>4</th>\n",
              "      <td>Awkward! Chelsea Clinton emphatically states a...</td>\n",
              "      <td>It may appear Hillary and Chelsea Clinton alwa...</td>\n",
              "    </tr>\n",
              "    <tr>\n",
              "      <th>5</th>\n",
              "      <td>Couple who are 'luring children to their car w...</td>\n",
              "      <td>A couple said to have abducted a three-year-ol...</td>\n",
              "    </tr>\n",
              "    <tr>\n",
              "      <th>6</th>\n",
              "      <td>MSNBC president  Phil Griffin 'smirked as he w...</td>\n",
              "      <td>The president ofMSNBC waved around a zoomed-in...</td>\n",
              "    </tr>\n",
              "    <tr>\n",
              "      <th>7</th>\n",
              "      <td>Three assisted living facility workers 'videot...</td>\n",
              "      <td>Three North Carolina assisted living facility ...</td>\n",
              "    </tr>\n",
              "    <tr>\n",
              "      <th>8</th>\n",
              "      <td>Gunman who 'opened fire in revenge attack' at ...</td>\n",
              "      <td>The gunman who shot a brideand the bishop pres...</td>\n",
              "    </tr>\n",
              "    <tr>\n",
              "      <th>9</th>\n",
              "      <td>Graphic spoof mass shooting video showing Dona...</td>\n",
              "      <td>A horrifically violent video which depicts Pre...</td>\n",
              "    </tr>\n",
              "  </tbody>\n",
              "</table>\n",
              "</div>"
            ],
            "text/plain": [
              "                                       Article Title                                    Article Content\n",
              "0  Parents of British teenager who was killed by ...  The family of Harry Dunn flew to the US yester...\n",
              "1  'There is blood on Trump's hands': Retired fou...  A retired four-star Marine general has slammed...\n",
              "2  Ten-year-old girl dies after 'being ejected' f...  A ten-year-old girl died after plunging from a...\n",
              "3  Elton John brands Michael Jackson 'mentally il...  Sir Elton John has branded late pop superstar ...\n",
              "4  Awkward! Chelsea Clinton emphatically states a...  It may appear Hillary and Chelsea Clinton alwa...\n",
              "5  Couple who are 'luring children to their car w...  A couple said to have abducted a three-year-ol...\n",
              "6  MSNBC president  Phil Griffin 'smirked as he w...  The president ofMSNBC waved around a zoomed-in...\n",
              "7  Three assisted living facility workers 'videot...  Three North Carolina assisted living facility ...\n",
              "8  Gunman who 'opened fire in revenge attack' at ...  The gunman who shot a brideand the bishop pres...\n",
              "9  Graphic spoof mass shooting video showing Dona...  A horrifically violent video which depicts Pre..."
            ]
          },
          "metadata": {
            "tags": []
          },
          "execution_count": 12
        }
      ]
    },
    {
      "cell_type": "code",
      "metadata": {
        "id": "YGPG5RDhVkzk",
        "colab_type": "code",
        "colab": {}
      },
      "source": [
        "export_csv = df.to_csv (r'dailymail.csv', index = None, header=True)"
      ],
      "execution_count": 0,
      "outputs": []
    },
    {
      "cell_type": "code",
      "metadata": {
        "id": "mnTPtT1sZtVg",
        "colab_type": "code",
        "colab": {}
      },
      "source": [
        "df=pd.read_csv('dailymail.csv')"
      ],
      "execution_count": 0,
      "outputs": []
    },
    {
      "cell_type": "code",
      "metadata": {
        "id": "aL-JY64HdT3H",
        "colab_type": "code",
        "outputId": "2bc4e931-544b-4f6d-ee79-e4e4deeb2255",
        "colab": {
          "base_uri": "https://localhost:8080/",
          "height": 343
        }
      },
      "source": [
        "df"
      ],
      "execution_count": 0,
      "outputs": [
        {
          "output_type": "execute_result",
          "data": {
            "text/html": [
              "<div>\n",
              "<style scoped>\n",
              "    .dataframe tbody tr th:only-of-type {\n",
              "        vertical-align: middle;\n",
              "    }\n",
              "\n",
              "    .dataframe tbody tr th {\n",
              "        vertical-align: top;\n",
              "    }\n",
              "\n",
              "    .dataframe thead th {\n",
              "        text-align: right;\n",
              "    }\n",
              "</style>\n",
              "<table border=\"1\" class=\"dataframe\">\n",
              "  <thead>\n",
              "    <tr style=\"text-align: right;\">\n",
              "      <th></th>\n",
              "      <th>Article Title</th>\n",
              "      <th>Article Content</th>\n",
              "    </tr>\n",
              "  </thead>\n",
              "  <tbody>\n",
              "    <tr>\n",
              "      <th>0</th>\n",
              "      <td>'Unlike Botham Jean, I don't want no hug': Fat...</td>\n",
              "      <td>The father of the black 28-year-old aspiring d...</td>\n",
              "    </tr>\n",
              "    <tr>\n",
              "      <th>1</th>\n",
              "      <td>'There is blood on Trump's hands': Retired fou...</td>\n",
              "      <td>A retired four-star Marine general has slammed...</td>\n",
              "    </tr>\n",
              "    <tr>\n",
              "      <th>2</th>\n",
              "      <td>Syrian Kurds abandoned by Trump ask President ...</td>\n",
              "      <td>Syria's Kurds said Syrian government forces ag...</td>\n",
              "    </tr>\n",
              "    <tr>\n",
              "      <th>3</th>\n",
              "      <td>Elton John brands Michael Jackson 'mentally il...</td>\n",
              "      <td>Sir Elton John has branded late pop superstar ...</td>\n",
              "    </tr>\n",
              "    <tr>\n",
              "      <th>4</th>\n",
              "      <td>Ten-year-old girl dies after 'being ejected' f...</td>\n",
              "      <td>A ten-year-old girl died after plunging from a...</td>\n",
              "    </tr>\n",
              "    <tr>\n",
              "      <th>5</th>\n",
              "      <td>Gwyneth Paltrow comes under fire for 'leanest ...</td>\n",
              "      <td>Gwyneth Paltrow has come under fire from diet ...</td>\n",
              "    </tr>\n",
              "    <tr>\n",
              "      <th>6</th>\n",
              "      <td>Man suspected of snatching three-year-old girl...</td>\n",
              "      <td>Police have detained a man suspected of snatch...</td>\n",
              "    </tr>\n",
              "    <tr>\n",
              "      <th>7</th>\n",
              "      <td>Israeli-American woman, 26, sentenced by Russi...</td>\n",
              "      <td>An Israeli-American woman who was sentenced to...</td>\n",
              "    </tr>\n",
              "    <tr>\n",
              "      <th>8</th>\n",
              "      <td>Mother, 40, is stabbed to death with a screwdr...</td>\n",
              "      <td>A 40-year-old mother has been stabbed to death...</td>\n",
              "    </tr>\n",
              "    <tr>\n",
              "      <th>9</th>\n",
              "      <td>Parents of British teenager who was killed by ...</td>\n",
              "      <td>The family of Harry Dunn flew to the US yester...</td>\n",
              "    </tr>\n",
              "  </tbody>\n",
              "</table>\n",
              "</div>"
            ],
            "text/plain": [
              "                                       Article Title                                    Article Content\n",
              "0  'Unlike Botham Jean, I don't want no hug': Fat...  The father of the black 28-year-old aspiring d...\n",
              "1  'There is blood on Trump's hands': Retired fou...  A retired four-star Marine general has slammed...\n",
              "2  Syrian Kurds abandoned by Trump ask President ...  Syria's Kurds said Syrian government forces ag...\n",
              "3  Elton John brands Michael Jackson 'mentally il...  Sir Elton John has branded late pop superstar ...\n",
              "4  Ten-year-old girl dies after 'being ejected' f...  A ten-year-old girl died after plunging from a...\n",
              "5  Gwyneth Paltrow comes under fire for 'leanest ...  Gwyneth Paltrow has come under fire from diet ...\n",
              "6  Man suspected of snatching three-year-old girl...  Police have detained a man suspected of snatch...\n",
              "7  Israeli-American woman, 26, sentenced by Russi...  An Israeli-American woman who was sentenced to...\n",
              "8  Mother, 40, is stabbed to death with a screwdr...  A 40-year-old mother has been stabbed to death...\n",
              "9  Parents of British teenager who was killed by ...  The family of Harry Dunn flew to the US yester..."
            ]
          },
          "metadata": {
            "tags": []
          },
          "execution_count": 10
        }
      ]
    },
    {
      "cell_type": "code",
      "metadata": {
        "id": "t2mUgi8QA7gQ",
        "colab_type": "code",
        "colab": {}
      },
      "source": [
        ""
      ],
      "execution_count": 0,
      "outputs": []
    }
  ]
}